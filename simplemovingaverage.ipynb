{
 "cells": [
  {
   "cell_type": "code",
   "id": "initial_id",
   "metadata": {
    "collapsed": true,
    "ExecuteTime": {
     "end_time": "2024-10-19T00:45:44.976811Z",
     "start_time": "2024-10-19T00:45:44.970494Z"
    }
   },
   "source": [
    "import numpy as np\n",
    "import pandas as pd \n",
    "import matplotlib.pyplot as plt\n",
    "import matplotlib.animation as animation\n",
    "import ta"
   ],
   "outputs": [],
   "execution_count": 167
  },
  {
   "metadata": {
    "ExecuteTime": {
     "end_time": "2024-10-19T00:45:45.042547Z",
     "start_time": "2024-10-19T00:45:45.005561Z"
    }
   },
   "cell_type": "code",
   "source": [
    "'''df=pd.read_csv('C:/Users/ETOUNDI/Downloads/Out_71.csv')\n",
    "df.columns = [\"Unnamed: 0\",\"date\",\"close\",\"Open\",\"High\",\"Low\"]\n",
    "df=df.set_index('date')\n",
    "df'''\n",
    "df = pd.read_csv('C:/Users/ETOUNDI/Downloads/Out_106.csv')\n",
    "df.columns = [\"1\",\"date\", \"close\", \"Open\", \"High\", \"Low\",\"vol\"]\n",
    "df.drop(columns = df.columns.difference([\"date\", \"close\", \"Open\", \"High\", \"Low\"]), inplace = True)\n",
    "df = df.set_index('date')\n",
    "df"
   ],
   "id": "98276e20a5efa622",
   "outputs": [
    {
     "data": {
      "text/plain": [
       "             close    Open    High     Low\n",
       "date                                      \n",
       "2022-07-29  157.69  160.14  155.17  159.10\n",
       "2022-08-01  157.25  165.19  155.23  159.93\n",
       "2022-08-02  158.31  162.24  158.01  160.19\n",
       "2022-08-03  162.69  169.54  161.57  168.80\n",
       "2022-08-04  168.29  172.15  166.80  170.57\n",
       "...            ...     ...     ...     ...\n",
       "2024-02-26  483.47  486.14  480.60  481.74\n",
       "2024-02-27  479.98  487.27  479.92  487.05\n",
       "2024-02-28  485.00  491.05  482.75  484.02\n",
       "2024-02-29  488.44  491.70  482.61  490.13\n",
       "2024-03-01  492.11  504.25  491.85  502.30\n",
       "\n",
       "[400 rows x 4 columns]"
      ],
      "text/html": [
       "<div>\n",
       "<style scoped>\n",
       "    .dataframe tbody tr th:only-of-type {\n",
       "        vertical-align: middle;\n",
       "    }\n",
       "\n",
       "    .dataframe tbody tr th {\n",
       "        vertical-align: top;\n",
       "    }\n",
       "\n",
       "    .dataframe thead th {\n",
       "        text-align: right;\n",
       "    }\n",
       "</style>\n",
       "<table border=\"1\" class=\"dataframe\">\n",
       "  <thead>\n",
       "    <tr style=\"text-align: right;\">\n",
       "      <th></th>\n",
       "      <th>close</th>\n",
       "      <th>Open</th>\n",
       "      <th>High</th>\n",
       "      <th>Low</th>\n",
       "    </tr>\n",
       "    <tr>\n",
       "      <th>date</th>\n",
       "      <th></th>\n",
       "      <th></th>\n",
       "      <th></th>\n",
       "      <th></th>\n",
       "    </tr>\n",
       "  </thead>\n",
       "  <tbody>\n",
       "    <tr>\n",
       "      <th>2022-07-29</th>\n",
       "      <td>157.69</td>\n",
       "      <td>160.14</td>\n",
       "      <td>155.17</td>\n",
       "      <td>159.10</td>\n",
       "    </tr>\n",
       "    <tr>\n",
       "      <th>2022-08-01</th>\n",
       "      <td>157.25</td>\n",
       "      <td>165.19</td>\n",
       "      <td>155.23</td>\n",
       "      <td>159.93</td>\n",
       "    </tr>\n",
       "    <tr>\n",
       "      <th>2022-08-02</th>\n",
       "      <td>158.31</td>\n",
       "      <td>162.24</td>\n",
       "      <td>158.01</td>\n",
       "      <td>160.19</td>\n",
       "    </tr>\n",
       "    <tr>\n",
       "      <th>2022-08-03</th>\n",
       "      <td>162.69</td>\n",
       "      <td>169.54</td>\n",
       "      <td>161.57</td>\n",
       "      <td>168.80</td>\n",
       "    </tr>\n",
       "    <tr>\n",
       "      <th>2022-08-04</th>\n",
       "      <td>168.29</td>\n",
       "      <td>172.15</td>\n",
       "      <td>166.80</td>\n",
       "      <td>170.57</td>\n",
       "    </tr>\n",
       "    <tr>\n",
       "      <th>...</th>\n",
       "      <td>...</td>\n",
       "      <td>...</td>\n",
       "      <td>...</td>\n",
       "      <td>...</td>\n",
       "    </tr>\n",
       "    <tr>\n",
       "      <th>2024-02-26</th>\n",
       "      <td>483.47</td>\n",
       "      <td>486.14</td>\n",
       "      <td>480.60</td>\n",
       "      <td>481.74</td>\n",
       "    </tr>\n",
       "    <tr>\n",
       "      <th>2024-02-27</th>\n",
       "      <td>479.98</td>\n",
       "      <td>487.27</td>\n",
       "      <td>479.92</td>\n",
       "      <td>487.05</td>\n",
       "    </tr>\n",
       "    <tr>\n",
       "      <th>2024-02-28</th>\n",
       "      <td>485.00</td>\n",
       "      <td>491.05</td>\n",
       "      <td>482.75</td>\n",
       "      <td>484.02</td>\n",
       "    </tr>\n",
       "    <tr>\n",
       "      <th>2024-02-29</th>\n",
       "      <td>488.44</td>\n",
       "      <td>491.70</td>\n",
       "      <td>482.61</td>\n",
       "      <td>490.13</td>\n",
       "    </tr>\n",
       "    <tr>\n",
       "      <th>2024-03-01</th>\n",
       "      <td>492.11</td>\n",
       "      <td>504.25</td>\n",
       "      <td>491.85</td>\n",
       "      <td>502.30</td>\n",
       "    </tr>\n",
       "  </tbody>\n",
       "</table>\n",
       "<p>400 rows × 4 columns</p>\n",
       "</div>"
      ]
     },
     "execution_count": 168,
     "metadata": {},
     "output_type": "execute_result"
    }
   ],
   "execution_count": 168
  },
  {
   "metadata": {
    "ExecuteTime": {
     "end_time": "2024-10-19T00:45:45.086982Z",
     "start_time": "2024-10-19T00:45:45.081614Z"
    }
   },
   "cell_type": "code",
   "source": "#del df['Unnamed: 0']",
   "id": "caca6d7635e481a1",
   "outputs": [],
   "execution_count": 169
  },
  {
   "metadata": {
    "ExecuteTime": {
     "end_time": "2024-10-19T00:45:45.149374Z",
     "start_time": "2024-10-19T00:45:45.108977Z"
    }
   },
   "cell_type": "code",
   "source": [
    "df['SMA50']=ta.trend.sma_indicator(df['close'],50)\n",
    "df['SMA200']=ta.trend.sma_indicator(df['close'],200)\n",
    "df[\"SMA10\"] = ta.trend.sma_indicator(df['close'],10)\n",
    "df[\"SMA20\"] = ta.trend.sma_indicator(df['close'],20)\n",
    "df"
   ],
   "id": "9ac0f730b61014b4",
   "outputs": [
    {
     "data": {
      "text/plain": [
       "             close    Open    High     Low     SMA50     SMA200    SMA10  \\\n",
       "date                                                                       \n",
       "2022-07-29  157.69  160.14  155.17  159.10       NaN        NaN      NaN   \n",
       "2022-08-01  157.25  165.19  155.23  159.93       NaN        NaN      NaN   \n",
       "2022-08-02  158.31  162.24  158.01  160.19       NaN        NaN      NaN   \n",
       "2022-08-03  162.69  169.54  161.57  168.80       NaN        NaN      NaN   \n",
       "2022-08-04  168.29  172.15  166.80  170.57       NaN        NaN      NaN   \n",
       "...            ...     ...     ...     ...       ...        ...      ...   \n",
       "2024-02-26  483.47  486.14  480.60  481.74  398.3452  323.48125  473.435   \n",
       "2024-02-27  479.98  487.27  479.92  487.05  401.2662  324.70030  474.614   \n",
       "2024-02-28  485.00  491.05  482.75  484.02  404.2892  325.96005  477.427   \n",
       "2024-02-29  488.44  491.70  482.61  490.13  407.4182  327.21855  479.478   \n",
       "2024-03-01  492.11  504.25  491.85  502.30  410.5108  328.49450  481.161   \n",
       "\n",
       "               SMA20  \n",
       "date                  \n",
       "2022-07-29       NaN  \n",
       "2022-08-01       NaN  \n",
       "2022-08-02       NaN  \n",
       "2022-08-03       NaN  \n",
       "2022-08-04       NaN  \n",
       "...              ...  \n",
       "2024-02-26  455.4305  \n",
       "2024-02-27  459.6805  \n",
       "2024-02-28  463.7510  \n",
       "2024-02-29  468.7230  \n",
       "2024-03-01  473.6315  \n",
       "\n",
       "[400 rows x 8 columns]"
      ],
      "text/html": [
       "<div>\n",
       "<style scoped>\n",
       "    .dataframe tbody tr th:only-of-type {\n",
       "        vertical-align: middle;\n",
       "    }\n",
       "\n",
       "    .dataframe tbody tr th {\n",
       "        vertical-align: top;\n",
       "    }\n",
       "\n",
       "    .dataframe thead th {\n",
       "        text-align: right;\n",
       "    }\n",
       "</style>\n",
       "<table border=\"1\" class=\"dataframe\">\n",
       "  <thead>\n",
       "    <tr style=\"text-align: right;\">\n",
       "      <th></th>\n",
       "      <th>close</th>\n",
       "      <th>Open</th>\n",
       "      <th>High</th>\n",
       "      <th>Low</th>\n",
       "      <th>SMA50</th>\n",
       "      <th>SMA200</th>\n",
       "      <th>SMA10</th>\n",
       "      <th>SMA20</th>\n",
       "    </tr>\n",
       "    <tr>\n",
       "      <th>date</th>\n",
       "      <th></th>\n",
       "      <th></th>\n",
       "      <th></th>\n",
       "      <th></th>\n",
       "      <th></th>\n",
       "      <th></th>\n",
       "      <th></th>\n",
       "      <th></th>\n",
       "    </tr>\n",
       "  </thead>\n",
       "  <tbody>\n",
       "    <tr>\n",
       "      <th>2022-07-29</th>\n",
       "      <td>157.69</td>\n",
       "      <td>160.14</td>\n",
       "      <td>155.17</td>\n",
       "      <td>159.10</td>\n",
       "      <td>NaN</td>\n",
       "      <td>NaN</td>\n",
       "      <td>NaN</td>\n",
       "      <td>NaN</td>\n",
       "    </tr>\n",
       "    <tr>\n",
       "      <th>2022-08-01</th>\n",
       "      <td>157.25</td>\n",
       "      <td>165.19</td>\n",
       "      <td>155.23</td>\n",
       "      <td>159.93</td>\n",
       "      <td>NaN</td>\n",
       "      <td>NaN</td>\n",
       "      <td>NaN</td>\n",
       "      <td>NaN</td>\n",
       "    </tr>\n",
       "    <tr>\n",
       "      <th>2022-08-02</th>\n",
       "      <td>158.31</td>\n",
       "      <td>162.24</td>\n",
       "      <td>158.01</td>\n",
       "      <td>160.19</td>\n",
       "      <td>NaN</td>\n",
       "      <td>NaN</td>\n",
       "      <td>NaN</td>\n",
       "      <td>NaN</td>\n",
       "    </tr>\n",
       "    <tr>\n",
       "      <th>2022-08-03</th>\n",
       "      <td>162.69</td>\n",
       "      <td>169.54</td>\n",
       "      <td>161.57</td>\n",
       "      <td>168.80</td>\n",
       "      <td>NaN</td>\n",
       "      <td>NaN</td>\n",
       "      <td>NaN</td>\n",
       "      <td>NaN</td>\n",
       "    </tr>\n",
       "    <tr>\n",
       "      <th>2022-08-04</th>\n",
       "      <td>168.29</td>\n",
       "      <td>172.15</td>\n",
       "      <td>166.80</td>\n",
       "      <td>170.57</td>\n",
       "      <td>NaN</td>\n",
       "      <td>NaN</td>\n",
       "      <td>NaN</td>\n",
       "      <td>NaN</td>\n",
       "    </tr>\n",
       "    <tr>\n",
       "      <th>...</th>\n",
       "      <td>...</td>\n",
       "      <td>...</td>\n",
       "      <td>...</td>\n",
       "      <td>...</td>\n",
       "      <td>...</td>\n",
       "      <td>...</td>\n",
       "      <td>...</td>\n",
       "      <td>...</td>\n",
       "    </tr>\n",
       "    <tr>\n",
       "      <th>2024-02-26</th>\n",
       "      <td>483.47</td>\n",
       "      <td>486.14</td>\n",
       "      <td>480.60</td>\n",
       "      <td>481.74</td>\n",
       "      <td>398.3452</td>\n",
       "      <td>323.48125</td>\n",
       "      <td>473.435</td>\n",
       "      <td>455.4305</td>\n",
       "    </tr>\n",
       "    <tr>\n",
       "      <th>2024-02-27</th>\n",
       "      <td>479.98</td>\n",
       "      <td>487.27</td>\n",
       "      <td>479.92</td>\n",
       "      <td>487.05</td>\n",
       "      <td>401.2662</td>\n",
       "      <td>324.70030</td>\n",
       "      <td>474.614</td>\n",
       "      <td>459.6805</td>\n",
       "    </tr>\n",
       "    <tr>\n",
       "      <th>2024-02-28</th>\n",
       "      <td>485.00</td>\n",
       "      <td>491.05</td>\n",
       "      <td>482.75</td>\n",
       "      <td>484.02</td>\n",
       "      <td>404.2892</td>\n",
       "      <td>325.96005</td>\n",
       "      <td>477.427</td>\n",
       "      <td>463.7510</td>\n",
       "    </tr>\n",
       "    <tr>\n",
       "      <th>2024-02-29</th>\n",
       "      <td>488.44</td>\n",
       "      <td>491.70</td>\n",
       "      <td>482.61</td>\n",
       "      <td>490.13</td>\n",
       "      <td>407.4182</td>\n",
       "      <td>327.21855</td>\n",
       "      <td>479.478</td>\n",
       "      <td>468.7230</td>\n",
       "    </tr>\n",
       "    <tr>\n",
       "      <th>2024-03-01</th>\n",
       "      <td>492.11</td>\n",
       "      <td>504.25</td>\n",
       "      <td>491.85</td>\n",
       "      <td>502.30</td>\n",
       "      <td>410.5108</td>\n",
       "      <td>328.49450</td>\n",
       "      <td>481.161</td>\n",
       "      <td>473.6315</td>\n",
       "    </tr>\n",
       "  </tbody>\n",
       "</table>\n",
       "<p>400 rows × 8 columns</p>\n",
       "</div>"
      ]
     },
     "execution_count": 170,
     "metadata": {},
     "output_type": "execute_result"
    }
   ],
   "execution_count": 170
  },
  {
   "metadata": {
    "jupyter": {
     "is_executing": true
    },
    "ExecuteTime": {
     "start_time": "2024-10-19T00:45:45.153379Z"
    }
   },
   "cell_type": "code",
   "source": [
    "plt.figure(figsize=(16,6))\n",
    "plt.plot(df[\"close\"])\n",
    "plt.plot(df[\"SMA10\"])\n",
    "plt.plot(df[\"SMA20\"])\n",
    "plt.plot(df[\"SMA50\"])\n",
    "plt.plot(df[\"SMA200\"])\n",
    "plt.show()"
   ],
   "id": "f76dacfc0f752328",
   "outputs": [],
   "execution_count": null
  },
  {
   "metadata": {
    "jupyter": {
     "is_executing": true
    }
   },
   "cell_type": "code",
   "source": "",
   "id": "456967a5d46723be",
   "outputs": [],
   "execution_count": null
  },
  {
   "metadata": {
    "jupyter": {
     "is_executing": true
    }
   },
   "cell_type": "code",
   "source": [
    "def buy_condition(df,last_price):   \n",
    "    if df['SMA10'][last_price]>df['SMA20'][last_price]:\n",
    "        return True\n",
    "    return False"
   ],
   "id": "1b5c9e96ec3adb0a",
   "outputs": [],
   "execution_count": null
  },
  {
   "metadata": {
    "jupyter": {
     "is_executing": true
    }
   },
   "cell_type": "code",
   "source": [
    "usdt=1000\n",
    "coin = 0\n",
    "free = 0.00087\n",
    "last_price = df.first_valid_index()\n",
    "trade = []\n",
    "take_profit = 100000\n",
    "stop_loss = 0\n",
    "for index,row in df.iterrows():\n",
    "    if buy_condition(df,last_price) and  usdt>0:\n",
    "        coin = usdt/df['close'][last_price] \n",
    "        coin = coin-coin*free\n",
    "        usdt=0\n",
    "        buy_data= {\n",
    "            \"date\":index,\n",
    "            \"close\":df['close'][last_price],\n",
    "            \"position\":\"buy\",\n",
    "            \"reason\":\"market\",\n",
    "            \"coin\":coin,\n",
    "            \"usdt\":usdt,\n",
    "            \"free\":free\n",
    "        }\n",
    "        trade.append(buy_data)\n",
    "    elif df['SMA10'][last_price]<df['SMA20'][last_price] and coin>0: \n",
    "        usdt+=coin*df['close'][last_price] \n",
    "        usdt = usdt - usdt*free\n",
    "        coin = 0\n",
    "        sell_data = {\"date\":index,\n",
    "                     \"close\":df['close'][last_price],\n",
    "                     \"position\":\"sell\",\n",
    "                     \"reason\":\"market\",\n",
    "                     \"coin\":coin,\n",
    "                     \"usdt\":usdt,\n",
    "                     \"free\":free\n",
    "        }\n",
    "        trade.append(sell_data)\n",
    "\n",
    "   \n",
    "    last_price = index  \n",
    "df_trades=pd.DataFrame(trade)"
   ],
   "id": "61e1986dd00e27d0",
   "outputs": [],
   "execution_count": null
  },
  {
   "metadata": {
    "jupyter": {
     "is_executing": true
    }
   },
   "cell_type": "code",
   "source": "df_trades",
   "id": "921d872107b43491",
   "outputs": [],
   "execution_count": null
  },
  {
   "metadata": {
    "ExecuteTime": {
     "end_time": "2024-10-19T00:37:27.813262Z",
     "start_time": "2024-10-19T00:37:27.798486Z"
    }
   },
   "cell_type": "code",
   "source": "df_trades.usdt.max()",
   "id": "9e57f95b5d4e927b",
   "outputs": [
    {
     "data": {
      "text/plain": [
       "65720.67731346804"
      ]
     },
     "execution_count": 162,
     "metadata": {},
     "output_type": "execute_result"
    }
   ],
   "execution_count": 162
  },
  {
   "metadata": {
    "ExecuteTime": {
     "end_time": "2024-10-19T00:37:27.834788Z",
     "start_time": "2024-10-19T00:37:27.817266Z"
    }
   },
   "cell_type": "code",
   "source": [
    "usdt=usdt+coin*df['close'].iloc[-1]\n",
    "print(usdt)\n",
    "#plt.plot(trade)"
   ],
   "id": "a5b6a0fea1a0b88c",
   "outputs": [
    {
     "name": "stdout",
     "output_type": "stream",
     "text": [
      "40497.7528655965\n"
     ]
    }
   ],
   "execution_count": 163
  },
  {
   "metadata": {
    "ExecuteTime": {
     "end_time": "2024-10-19T00:37:27.857050Z",
     "start_time": "2024-10-19T00:37:27.838796Z"
    }
   },
   "cell_type": "code",
   "source": "print((1000/df[\"close\"].iloc[0]*df[\"close\"].iloc[-1]))",
   "id": "5f5a76069087a3ce",
   "outputs": [
    {
     "name": "stdout",
     "output_type": "stream",
     "text": [
      "103537.1383893667\n"
     ]
    }
   ],
   "execution_count": 164
  },
  {
   "metadata": {
    "ExecuteTime": {
     "end_time": "2024-10-19T00:37:27.878667Z",
     "start_time": "2024-10-19T00:37:27.864053Z"
    }
   },
   "cell_type": "code",
   "source": "",
   "id": "27f848060ec00f43",
   "outputs": [],
   "execution_count": 164
  }
 ],
 "metadata": {
  "kernelspec": {
   "display_name": "Python 3",
   "language": "python",
   "name": "python3"
  },
  "language_info": {
   "codemirror_mode": {
    "name": "ipython",
    "version": 2
   },
   "file_extension": ".py",
   "mimetype": "text/x-python",
   "name": "python",
   "nbconvert_exporter": "python",
   "pygments_lexer": "ipython2",
   "version": "2.7.6"
  }
 },
 "nbformat": 4,
 "nbformat_minor": 5
}
